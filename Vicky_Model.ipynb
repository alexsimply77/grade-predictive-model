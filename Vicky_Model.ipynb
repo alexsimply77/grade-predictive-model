{
 "cells": [
  {
   "cell_type": "code",
   "execution_count": 1,
   "id": "8f56ced3",
   "metadata": {},
   "outputs": [],
   "source": [
    "import pandas as pd\n",
    "import numpy as np"
   ]
  },
  {
   "cell_type": "code",
   "execution_count": 5,
   "id": "c85f5992",
   "metadata": {},
   "outputs": [
    {
     "data": {
      "text/html": [
       "<div>\n",
       "<style scoped>\n",
       "    .dataframe tbody tr th:only-of-type {\n",
       "        vertical-align: middle;\n",
       "    }\n",
       "\n",
       "    .dataframe tbody tr th {\n",
       "        vertical-align: top;\n",
       "    }\n",
       "\n",
       "    .dataframe thead th {\n",
       "        text-align: right;\n",
       "    }\n",
       "</style>\n",
       "<table border=\"1\" class=\"dataframe\">\n",
       "  <thead>\n",
       "    <tr style=\"text-align: right;\">\n",
       "      <th></th>\n",
       "      <th>grade</th>\n",
       "      <th>class_size</th>\n",
       "      <th>is_female</th>\n",
       "      <th>morning_class</th>\n",
       "    </tr>\n",
       "  </thead>\n",
       "  <tbody>\n",
       "    <tr>\n",
       "      <th>0</th>\n",
       "      <td>70</td>\n",
       "      <td>35</td>\n",
       "      <td>0</td>\n",
       "      <td>1</td>\n",
       "    </tr>\n",
       "    <tr>\n",
       "      <th>1</th>\n",
       "      <td>85</td>\n",
       "      <td>23</td>\n",
       "      <td>1</td>\n",
       "      <td>0</td>\n",
       "    </tr>\n",
       "    <tr>\n",
       "      <th>2</th>\n",
       "      <td>86</td>\n",
       "      <td>28</td>\n",
       "      <td>0</td>\n",
       "      <td>1</td>\n",
       "    </tr>\n",
       "    <tr>\n",
       "      <th>3</th>\n",
       "      <td>92</td>\n",
       "      <td>13</td>\n",
       "      <td>0</td>\n",
       "      <td>1</td>\n",
       "    </tr>\n",
       "    <tr>\n",
       "      <th>4</th>\n",
       "      <td>89</td>\n",
       "      <td>15</td>\n",
       "      <td>0</td>\n",
       "      <td>1</td>\n",
       "    </tr>\n",
       "  </tbody>\n",
       "</table>\n",
       "</div>"
      ],
      "text/plain": [
       "   grade  class_size  is_female  morning_class\n",
       "0     70          35          0              1\n",
       "1     85          23          1              0\n",
       "2     86          28          0              1\n",
       "3     92          13          0              1\n",
       "4     89          15          0              1"
      ]
     },
     "execution_count": 5,
     "metadata": {},
     "output_type": "execute_result"
    }
   ],
   "source": [
    "# import data from csv file, set it up as a Pandas data table\n",
    "path = 'Sample Data  - Sheet1.csv' \n",
    "data = pd.read_csv(path)\n",
    "data.head(5) # forget unnamed for now"
   ]
  },
  {
   "cell_type": "code",
   "execution_count": 6,
   "id": "ca4fbfde",
   "metadata": {},
   "outputs": [],
   "source": [
    "# setup X and y data\n",
    "# Note that X is the features and y is the target we want to predict\n",
    "X = data[['class_size', 'is_female', 'morning_class']]\n",
    "y = data.grade\n",
    "\n",
    "# setup test split, model randomly chooses students to predict their grade\n",
    "from sklearn.model_selection import train_test_split\n",
    "X_train,X_test,y_train,y_test = train_test_split(X,y)"
   ]
  },
  {
   "cell_type": "code",
   "execution_count": 7,
   "id": "f559c5b2",
   "metadata": {},
   "outputs": [],
   "source": [
    "# setup RandomForestRegressor, we use this to predict student grades\n",
    "from sklearn.ensemble import RandomForestRegressor\n",
    "\n",
    "clf = RandomForestRegressor()"
   ]
  },
  {
   "cell_type": "code",
   "execution_count": 8,
   "id": "1d98d3cd",
   "metadata": {},
   "outputs": [
    {
     "name": "stdout",
     "output_type": "stream",
     "text": [
      "Fitting 5 folds for each of 5 candidates, totalling 25 fits\n"
     ]
    },
    {
     "data": {
      "text/plain": [
       "GridSearchCV(cv=5, estimator=RandomForestRegressor(), n_jobs=-1,\n",
       "             param_grid={'max_depth': [2, 4, 8, 16, 32]},\n",
       "             scoring='neg_mean_squared_error', verbose=1)"
      ]
     },
     "execution_count": 8,
     "metadata": {},
     "output_type": "execute_result"
    }
   ],
   "source": [
    "# Setup for a grid search, we use a search grid to test multiple parameters and find the best one\n",
    "from sklearn.model_selection import GridSearchCV\n",
    "depth_list = [2,4,8,16,32]\n",
    "param_dic = {'max_depth': depth_list}\n",
    "# additionally, clf above has class_weight = 'balanced' in the parameters\n",
    "\n",
    "grid = GridSearchCV(clf,param_dic, scoring='neg_mean_squared_error', cv=5, n_jobs=-1, verbose=1)\n",
    "grid.fit(X,y)"
   ]
  },
  {
   "cell_type": "code",
   "execution_count": 9,
   "id": "c90a1e97",
   "metadata": {},
   "outputs": [],
   "source": [
    "# from the grid search, select the best one then make predictions from it\n",
    "best_pipe = grid.best_estimator_\n",
    "y_test_pred = best_pipe.predict(X_test) # from the people being tested, predict their grades\n"
   ]
  },
  {
   "cell_type": "code",
   "execution_count": 10,
   "id": "84913da2",
   "metadata": {},
   "outputs": [
    {
     "data": {
      "text/plain": [
       "array([0.98465277, 0.00610828, 0.00923895])"
      ]
     },
     "execution_count": 10,
     "metadata": {},
     "output_type": "execute_result"
    }
   ],
   "source": [
    "# from the best pipe, give the importances of the features given\n",
    "best_pipe.feature_importances_"
   ]
  },
  {
   "cell_type": "code",
   "execution_count": 11,
   "id": "cded82a8",
   "metadata": {},
   "outputs": [
    {
     "data": {
      "text/plain": [
       "[81.0, 77.0, 94.0, 94.0, 94.0, 94.0, 73.0, 89.0]"
      ]
     },
     "execution_count": 11,
     "metadata": {},
     "output_type": "execute_result"
    }
   ],
   "source": [
    "# print a list of grades predicted\n",
    "np.floor(y_test_pred).tolist()"
   ]
  },
  {
   "cell_type": "code",
   "execution_count": 12,
   "id": "4a086775",
   "metadata": {},
   "outputs": [
    {
     "data": {
      "text/plain": [
       "array([79, 77, 97, 95, 94, 95, 73, 89], dtype=int64)"
      ]
     },
     "execution_count": 12,
     "metadata": {},
     "output_type": "execute_result"
    }
   ],
   "source": [
    "# print a list of the actual grades\n",
    "y_test.values"
   ]
  },
  {
   "cell_type": "code",
   "execution_count": 13,
   "id": "51721268",
   "metadata": {},
   "outputs": [
    {
     "data": {
      "text/html": [
       "<div>\n",
       "<style scoped>\n",
       "    .dataframe tbody tr th:only-of-type {\n",
       "        vertical-align: middle;\n",
       "    }\n",
       "\n",
       "    .dataframe tbody tr th {\n",
       "        vertical-align: top;\n",
       "    }\n",
       "\n",
       "    .dataframe thead th {\n",
       "        text-align: right;\n",
       "    }\n",
       "</style>\n",
       "<table border=\"1\" class=\"dataframe\">\n",
       "  <thead>\n",
       "    <tr style=\"text-align: right;\">\n",
       "      <th></th>\n",
       "      <th>class_size</th>\n",
       "      <th>is_female</th>\n",
       "      <th>morning_class</th>\n",
       "    </tr>\n",
       "  </thead>\n",
       "  <tbody>\n",
       "    <tr>\n",
       "      <th>7</th>\n",
       "      <td>23</td>\n",
       "      <td>1</td>\n",
       "      <td>0</td>\n",
       "    </tr>\n",
       "    <tr>\n",
       "      <th>1</th>\n",
       "      <td>23</td>\n",
       "      <td>1</td>\n",
       "      <td>0</td>\n",
       "    </tr>\n",
       "    <tr>\n",
       "      <th>27</th>\n",
       "      <td>27</td>\n",
       "      <td>0</td>\n",
       "      <td>1</td>\n",
       "    </tr>\n",
       "    <tr>\n",
       "      <th>28</th>\n",
       "      <td>11</td>\n",
       "      <td>1</td>\n",
       "      <td>1</td>\n",
       "    </tr>\n",
       "    <tr>\n",
       "      <th>18</th>\n",
       "      <td>13</td>\n",
       "      <td>1</td>\n",
       "      <td>0</td>\n",
       "    </tr>\n",
       "  </tbody>\n",
       "</table>\n",
       "</div>"
      ],
      "text/plain": [
       "    class_size  is_female  morning_class\n",
       "7           23          1              0\n",
       "1           23          1              0\n",
       "27          27          0              1\n",
       "28          11          1              1\n",
       "18          13          1              0"
      ]
     },
     "execution_count": 13,
     "metadata": {},
     "output_type": "execute_result"
    }
   ],
   "source": [
    "X_train.head(5)"
   ]
  },
  {
   "cell_type": "code",
   "execution_count": 14,
   "id": "7c0a87cb",
   "metadata": {},
   "outputs": [
    {
     "data": {
      "text/plain": [
       "7     82\n",
       "1     85\n",
       "27    68\n",
       "28    99\n",
       "18    87\n",
       "Name: grade, dtype: int64"
      ]
     },
     "execution_count": 14,
     "metadata": {},
     "output_type": "execute_result"
    }
   ],
   "source": [
    "y_train.head(5)"
   ]
  },
  {
   "cell_type": "code",
   "execution_count": 15,
   "id": "f6ff41e7",
   "metadata": {},
   "outputs": [
    {
     "name": "stdout",
     "output_type": "stream",
     "text": [
      "predicted grade:  81.0 actual grade:  79\n",
      "predicted grade:  77.0 actual grade:  77\n",
      "predicted grade:  94.0 actual grade:  97\n",
      "predicted grade:  94.0 actual grade:  95\n",
      "predicted grade:  94.0 actual grade:  94\n",
      "predicted grade:  94.0 actual grade:  95\n",
      "predicted grade:  73.0 actual grade:  73\n",
      "predicted grade:  89.0 actual grade:  89\n"
     ]
    }
   ],
   "source": [
    "# print predicted and actual grades side by side\n",
    "testLength = len(y_test)\n",
    "for i in range(testLength):\n",
    "    print('predicted grade: ', np.floor(y_test_pred[i]), 'actual grade: ', y_test.values[i])"
   ]
  },
  {
   "cell_type": "code",
   "execution_count": 16,
   "id": "2db6a5b1",
   "metadata": {},
   "outputs": [
    {
     "data": {
      "image/png": "[encoded data removed]",
      "text/plain": [
       "<Figure size 1000x1000 with 1 Axes>"
      ]
     },
     "metadata": {},
     "output_type": "display_data"
    }
   ],
   "source": [
    "import pandas as pd\n",
    "import matplotlib.pyplot as plt\n",
    "\n",
    "best_pipe = grid.best_estimator_\n",
    "y_test_pred = best_pipe.predict(X_test)\n",
    "\n",
    "\n",
    "# plot from SOF https://stackoverflow.com/questions/58410187/how-to-plot-predicted-values-vs-the-true-value\n",
    "plt.figure(figsize=(10,10))\n",
    "plt.scatter(y_test, y_test_pred, c='crimson')\n",
    "plt.yscale('linear')\n",
    "plt.xscale('linear')\n",
    "\n",
    "p1 = max(max(y_test_pred), max(y_test))\n",
    "p2 = min(min(y_test_pred), min(y_test))\n",
    "plt.plot([p1, p2], [p1, p2], 'b-')\n",
    "plt.xlabel('True Values', fontsize=15)\n",
    "plt.ylabel('Predictions', fontsize=15)\n",
    "plt.axis('equal')\n",
    "plt.show()"
   ]
  },
  {
   "cell_type": "code",
   "execution_count": 17,
   "id": "c75ca470",
   "metadata": {},
   "outputs": [
    {
     "name": "stdout",
     "output_type": "stream",
     "text": [
      "params: {'max_depth': 2}\n",
      "MSE: 1.200498989982588\n",
      "MAE: 0.8421419453063876\n",
      "MAPE 0.00974967962580307\n"
     ]
    }
   ],
   "source": [
    "import numpy as np\n",
    "from sklearn.metrics import confusion_matrix, accuracy_score, recall_score, mean_absolute_error, mean_squared_error, mean_absolute_percentage_error\n",
    "\n",
    "def TestPipe(y,y_pred):\n",
    "    print('params:',grid.best_params_)\n",
    "    # MSE\n",
    "    print('MSE:',np.sqrt(mean_squared_error(y,y_pred)))\n",
    "    # MAE\n",
    "    print('MAE:',mean_absolute_error(y,y_pred))\n",
    "    # MAPE\n",
    "    print('MAPE', mean_absolute_percentage_error(y,y_pred))\n",
    "\n",
    "TestPipe(y_test,y_test_pred)"
   ]
  },
  {
   "cell_type": "code",
   "execution_count": null,
   "id": "543a3d86",
   "metadata": {},
   "outputs": [],
   "source": []
  }
 ],
 "metadata": {
  "kernelspec": {
   "display_name": "Python 3 (ipykernel)",
   "language": "python",
   "name": "python3"
  },
  "language_info": {
   "codemirror_mode": {
    "name": "ipython",
    "version": 3
   },
   "file_extension": ".py",
   "mimetype": "text/x-python",
   "name": "python",
   "nbconvert_exporter": "python",
   "pygments_lexer": "ipython3",
   "version": "3.9.13"
  }
 },
 "nbformat": 4,
 "nbformat_minor": 5
}
